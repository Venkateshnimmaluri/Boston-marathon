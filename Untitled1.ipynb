{
 "cells": [
  {
   "cell_type": "code",
   "execution_count": 34,
   "id": "14332387-59d6-4f8c-94ad-5bfc7f731bfe",
   "metadata": {},
   "outputs": [],
   "source": [
    "import pandas as pd\n",
    "import zipfile\n",
    "from sklearn.model_selection import train_test_split\n",
    "from sklearn.linear_model import LinearRegression\n",
    "from sklearn.tree import DecisionTreeRegressor\n",
    "from sklearn.ensemble import RandomForestRegressor\n",
    "from sklearn.svm import SVR\n",
    "from sklearn.metrics import mean_absolute_error"
   ]
  },
  {
   "cell_type": "code",
   "execution_count": 36,
   "id": "730da44e-7fec-4dcc-a349-cb07b172bd9d",
   "metadata": {},
   "outputs": [],
   "source": [
    "csv_file_path = 'Athletes.csv'\n",
    "df = pd.read_csv(csv_file_path)"
   ]
  },
  {
   "cell_type": "code",
   "execution_count": 38,
   "id": "021f99be-747b-445e-8d9b-a5bf1fad4d39",
   "metadata": {},
   "outputs": [
    {
     "name": "stdout",
     "output_type": "stream",
     "text": [
      "   Bib    Zip  Age Age Group Gender  First Half  Second Half  Finish  \\\n",
      "0   25  93730   30  Under 35      M        3832         3961    7793   \n",
      "1    9  97124   32  Under 35      M        3845         4059    7904   \n",
      "2   20  80922   40     40-44      M        3795         4157    7952   \n",
      "3   46   2136   38     35-39      M        3997         4065    8062   \n",
      "4   51   6119   26  Under 35      M        3979         4198    8177   \n",
      "\n",
      "   Positive Split  Percent Change  \n",
      "0             129        0.033664  \n",
      "1             214        0.055657  \n",
      "2             362        0.095389  \n",
      "3              68        0.017013  \n",
      "4             219        0.055039  \n"
     ]
    }
   ],
   "source": [
    "# Display the first few rows of the dataset to understand its structure\n",
    "print(df.head())"
   ]
  },
  {
   "cell_type": "code",
   "execution_count": 40,
   "id": "8e3fc754-5225-4d97-b283-16e4c948a5ba",
   "metadata": {},
   "outputs": [],
   "source": [
    "# Select relevant columns\n",
    "X = df[['First Half', 'Second Half']]\n",
    "y = df['Age']"
   ]
  },
  {
   "cell_type": "code",
   "execution_count": 42,
   "id": "62c9d186-7b4e-45be-a009-47b9d8eccf98",
   "metadata": {},
   "outputs": [],
   "source": [
    "# Split the data into training and testing sets\n",
    "X_train, X_test, y_train, y_test = train_test_split(X, y, test_size=0.2, random_state=42)"
   ]
  },
  {
   "cell_type": "code",
   "execution_count": 44,
   "id": "9b5596e2-a3dd-4760-a4d6-31157acec85b",
   "metadata": {},
   "outputs": [],
   "source": [
    "models = {\n",
    "    'Linear Regression': LinearRegression(),\n",
    "    'Decision Tree Regressor': DecisionTreeRegressor(random_state=42),\n",
    "    'Random Forest Regressor': RandomForestRegressor(random_state=42),\n",
    "    'Support Vector Regressor': SVR()\n",
    "}"
   ]
  },
  {
   "cell_type": "code",
   "execution_count": 46,
   "id": "e19da954-8f36-4ade-b210-c3d4fafa0779",
   "metadata": {},
   "outputs": [],
   "source": [
    "# Train and evaluate each model\n",
    "results = {}\n",
    "for name, model in models.items():\n",
    "    model.fit(X_train, y_train)\n",
    "    y_pred = model.predict(X_test)\n",
    "    mae = mean_absolute_error(y_test, y_pred)\n",
    "    results[name] = {\n",
    "        'Model': model,\n",
    "        'Predicted': y_pred,\n",
    "        'MAE': mae\n",
    "    }"
   ]
  },
  {
   "cell_type": "code",
   "execution_count": 47,
   "id": "e005e788-3840-4c9f-bcb3-4a2d7a10bbbc",
   "metadata": {},
   "outputs": [
    {
     "name": "stdout",
     "output_type": "stream",
     "text": [
      "Linear Regression MAE: 10.275231219868001\n",
      "Decision Tree Regressor MAE: 12.829123112659698\n",
      "Random Forest Regressor MAE: 10.111315254963774\n",
      "Support Vector Regressor MAE: 9.665743902857761\n"
     ]
    }
   ],
   "source": [
    "# Display the Mean Absolute Error for each model\n",
    "for name, result in results.items():\n",
    "    print(f\"{name} MAE: {result['MAE']}\")"
   ]
  },
  {
   "cell_type": "code",
   "execution_count": 48,
   "id": "0b8d31c6-6909-492b-9315-2c3f734b0303",
   "metadata": {},
   "outputs": [
    {
     "name": "stdout",
     "output_type": "stream",
     "text": [
      "\n",
      "Random Forest Regressor Predictions:\n",
      "       Actual Age  Predicted Age\n",
      "16722          39        41.8300\n",
      "15088          28        32.3000\n",
      "9922           54        52.7300\n",
      "980            43        42.7100\n",
      "8253           45        45.4305\n"
     ]
    }
   ],
   "source": [
    "# Display the first few predicted outputs for the Random Forest Regressor\n",
    "random_forest_results = pd.DataFrame({'Actual Age': y_test, 'Predicted Age': results['Random Forest Regressor']['Predicted']})\n",
    "print(\"\\nRandom Forest Regressor Predictions:\")\n",
    "print(random_forest_results.head())"
   ]
  },
  {
   "cell_type": "code",
   "execution_count": null,
   "id": "014ecb5c-2112-498f-b341-cfdff7e7e190",
   "metadata": {},
   "outputs": [],
   "source": []
  }
 ],
 "metadata": {
  "kernelspec": {
   "display_name": "anaconda-ai-2024.04-py310",
   "language": "python",
   "name": "conda-env-anaconda-ai-2024.04-py310-py"
  },
  "language_info": {
   "codemirror_mode": {
    "name": "ipython",
    "version": 3
   },
   "file_extension": ".py",
   "mimetype": "text/x-python",
   "name": "python",
   "nbconvert_exporter": "python",
   "pygments_lexer": "ipython3",
   "version": "3.10.13"
  }
 },
 "nbformat": 4,
 "nbformat_minor": 5
}
